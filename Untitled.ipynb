{
 "cells": [
  {
   "cell_type": "code",
   "execution_count": 1,
   "metadata": {},
   "outputs": [
    {
     "name": "stdout",
     "output_type": "stream",
     "text": [
      "hej\n"
     ]
    }
   ],
   "source": [
    "print('hej')"
   ]
  },
  {
   "cell_type": "code",
   "execution_count": 134,
   "metadata": {},
   "outputs": [],
   "source": [
    "from talib import abstract\n",
    "import pandas as pd \n",
    "import datetime\n",
    "import matplotlib.pyplot as plt\n",
    "import matplotlib.image as mpimg\n",
    "import matplotlib\n",
    "matplotlib.use('Agg')\n",
    "import numpy as np\n"
   ]
  },
  {
   "cell_type": "code",
   "execution_count": 139,
   "metadata": {},
   "outputs": [],
   "source": [
    "def plotdata(data,start,date_extention,previous,coin,ind):\n",
    "    start_date=start\n",
    "    \n",
    "    end_datetime=datetime.datetime.strptime(start_date,'%Y.%m.%d')\n",
    " \n",
    "    date_plus = datetime.datetime(end_datetime.year,end_datetime.month,end_datetime.day)\n",
    "    date_plus += datetime.timedelta(days=date_extention)\n",
    "    date_minus = datetime.datetime(end_datetime.year,end_datetime.month,end_datetime.day)\n",
    "    date_minus-= datetime.timedelta(days=previous)\n",
    "    \n",
    "  \n",
    "    date_ext_string=date_plus.strftime(\"%Y.%m.%d\")\n",
    "    date_prev_string=date_minus.strftime(\"%Y.%m.%d\")\n",
    "   \n",
    "    mask = (data['date'] >= date_prev_string) & (data['date'] <= start_date)\n",
    "    mask2 = (data['date'] >=start_date) & (data['date'] <= date_ext_string)\n",
    "    mask3 = (data['date'] >=date_prev_string) & (data['date'] <= date_ext_string)\n",
    "    d = data.loc[mask]\n",
    "    d2= data.loc[mask2]\n",
    "    d3=data.loc[mask3]\n",
    "    \n",
    "    ax = plt.axes()\n",
    "    ax.set_facecolor(\"black\")\n",
    "    fig = plt.gcf()\n",
    "    fig.set_size_inches(18.5, 10.5)\n",
    "    ax.plot(d['close'], color=\"red\")\n",
    "    \n",
    "    ax.plot(d2['close'], color=\"yellow\",marker='D', mfc='blue')\n",
    "  \n",
    "    #print(xpoints)\n",
    "    \n",
    "\n",
    "    #plt.plot(xpoints, ypoints)\n",
    "    #################################simple moving average ploting\n",
    "    d3['sma20'] = d3['close'].rolling(20, min_periods=1).mean()\n",
    "    d3['sma50'] = d3['close'].rolling(50, min_periods=1).mean()\n",
    "    \n",
    "    ax.plot(d3['sma20'], color=\"black\")\n",
    "    ax.plot(d3['sma50'], color=\"blue\")\n",
    "    ###############################bollinger band ploting\n",
    "    '''\n",
    "    d3['middle_band'] = d3['close'].rolling(window=20).mean()\n",
    "    d3['upper_band'] = d3['close'].rolling(window=20).mean() + d3['close'].rolling(window=20).std()*2\n",
    "    d3['lower_band'] = d3['close'].rolling(window=20).mean() - d3['close'].rolling(window=20).std()*2\n",
    "    ax.plot(d3['upper_band'], 'w--', label=\"upper\")\n",
    "    ax.plot(d3['middle_band'], 'w--', label=\"middle\")\n",
    "    ax.plot(d3['lower_band'], 'w--', label=\"lower\")\n",
    "    '''\n",
    "\n",
    "    ###################################fibonachi \n",
    "    \n",
    "    maximum_price=d3['close'].max()\n",
    "    minimum_price=d3['close'].min()\n",
    "    difference=maximum_price-minimum_price\n",
    "    first_level=maximum_price-difference*0.236\n",
    "    second_level=maximum_price-difference*0.382\n",
    "    third_level=maximum_price-difference*0.5\n",
    "    fourth_level=maximum_price-difference*0.618\n",
    "    ax.axhline(maximum_price,linestyle='--',alpha=0.5,color='green')\n",
    "    ax.fill_between(d3.index,maximum_price,first_level,color='green')\n",
    "    ax.axhline(first_level,linestyle='--',alpha=0.5,color='orange')\n",
    "    ax.fill_between(d3.index,first_level,second_level,color='orange')\n",
    "    ax.axhline(second_level,linestyle='--',alpha=0.5,color='red')\n",
    "    ax.fill_between(d3.index,second_level,third_level,color='white')\n",
    "    ax.axhline(third_level,linestyle='--',alpha=0.5,color='green')\n",
    "    ax.fill_between(d3.index,third_level,fourth_level,color='green')\n",
    "   \n",
    "    \n",
    "    ax.axhline(fourth_level,linestyle='--',alpha=0.5,color='orange')\n",
    "    ax.fill_between(d3.index,fourth_level,minimum_price,color='orange')\n",
    "    last=list(d['close'].index.values)\n",
    "    lastindex=last[len(last)-1]\n",
    "    xx=d2['close'][0:1].values\n",
    "    xxx=xx[0]\n",
    "    xpoints = np.array([lastindex, lastindex])\n",
    "    ypoints = np.array([minimum_price, maximum_price])\n",
    "    plt.plot(xpoints, ypoints,color=\"cyan\")\n",
    "    print()\n",
    "    \n",
    "    \n",
    "    plt.savefig(ind+'-'+coin+'-'+start_date+'.png')\n",
    "    plt.draw()\n",
    "    plt.close()"
   ]
  },
  {
   "cell_type": "code",
   "execution_count": 145,
   "metadata": {},
   "outputs": [
    {
     "name": "stdout",
     "output_type": "stream",
     "text": [
      "388\n",
      "2013.05.16\n",
      "0\n",
      "\n",
      "1\n"
     ]
    },
    {
     "name": "stderr",
     "output_type": "stream",
     "text": [
      "<ipython-input-139-4c234f69dd5b>:35: SettingWithCopyWarning: \n",
      "A value is trying to be set on a copy of a slice from a DataFrame.\n",
      "Try using .loc[row_indexer,col_indexer] = value instead\n",
      "\n",
      "See the caveats in the documentation: https://pandas.pydata.org/pandas-docs/stable/user_guide/indexing.html#returning-a-view-versus-a-copy\n",
      "  d3['sma20'] = d3['close'].rolling(20, min_periods=1).mean()\n",
      "<ipython-input-139-4c234f69dd5b>:36: SettingWithCopyWarning: \n",
      "A value is trying to be set on a copy of a slice from a DataFrame.\n",
      "Try using .loc[row_indexer,col_indexer] = value instead\n",
      "\n",
      "See the caveats in the documentation: https://pandas.pydata.org/pandas-docs/stable/user_guide/indexing.html#returning-a-view-versus-a-copy\n",
      "  d3['sma50'] = d3['close'].rolling(50, min_periods=1).mean()\n",
      "<ipython-input-139-4c234f69dd5b>:35: SettingWithCopyWarning: \n",
      "A value is trying to be set on a copy of a slice from a DataFrame.\n",
      "Try using .loc[row_indexer,col_indexer] = value instead\n",
      "\n",
      "See the caveats in the documentation: https://pandas.pydata.org/pandas-docs/stable/user_guide/indexing.html#returning-a-view-versus-a-copy\n",
      "  d3['sma20'] = d3['close'].rolling(20, min_periods=1).mean()\n",
      "<ipython-input-139-4c234f69dd5b>:36: SettingWithCopyWarning: \n",
      "A value is trying to be set on a copy of a slice from a DataFrame.\n",
      "Try using .loc[row_indexer,col_indexer] = value instead\n",
      "\n",
      "See the caveats in the documentation: https://pandas.pydata.org/pandas-docs/stable/user_guide/indexing.html#returning-a-view-versus-a-copy\n",
      "  d3['sma50'] = d3['close'].rolling(50, min_periods=1).mean()\n"
     ]
    },
    {
     "name": "stdout",
     "output_type": "stream",
     "text": [
      "\n",
      "2\n",
      "\n"
     ]
    },
    {
     "name": "stderr",
     "output_type": "stream",
     "text": [
      "<ipython-input-139-4c234f69dd5b>:35: SettingWithCopyWarning: \n",
      "A value is trying to be set on a copy of a slice from a DataFrame.\n",
      "Try using .loc[row_indexer,col_indexer] = value instead\n",
      "\n",
      "See the caveats in the documentation: https://pandas.pydata.org/pandas-docs/stable/user_guide/indexing.html#returning-a-view-versus-a-copy\n",
      "  d3['sma20'] = d3['close'].rolling(20, min_periods=1).mean()\n",
      "<ipython-input-139-4c234f69dd5b>:36: SettingWithCopyWarning: \n",
      "A value is trying to be set on a copy of a slice from a DataFrame.\n",
      "Try using .loc[row_indexer,col_indexer] = value instead\n",
      "\n",
      "See the caveats in the documentation: https://pandas.pydata.org/pandas-docs/stable/user_guide/indexing.html#returning-a-view-versus-a-copy\n",
      "  d3['sma50'] = d3['close'].rolling(50, min_periods=1).mean()\n"
     ]
    },
    {
     "name": "stdout",
     "output_type": "stream",
     "text": [
      "3\n",
      "\n"
     ]
    },
    {
     "name": "stderr",
     "output_type": "stream",
     "text": [
      "<ipython-input-139-4c234f69dd5b>:35: SettingWithCopyWarning: \n",
      "A value is trying to be set on a copy of a slice from a DataFrame.\n",
      "Try using .loc[row_indexer,col_indexer] = value instead\n",
      "\n",
      "See the caveats in the documentation: https://pandas.pydata.org/pandas-docs/stable/user_guide/indexing.html#returning-a-view-versus-a-copy\n",
      "  d3['sma20'] = d3['close'].rolling(20, min_periods=1).mean()\n",
      "<ipython-input-139-4c234f69dd5b>:36: SettingWithCopyWarning: \n",
      "A value is trying to be set on a copy of a slice from a DataFrame.\n",
      "Try using .loc[row_indexer,col_indexer] = value instead\n",
      "\n",
      "See the caveats in the documentation: https://pandas.pydata.org/pandas-docs/stable/user_guide/indexing.html#returning-a-view-versus-a-copy\n",
      "  d3['sma50'] = d3['close'].rolling(50, min_periods=1).mean()\n"
     ]
    },
    {
     "name": "stdout",
     "output_type": "stream",
     "text": [
      "4\n",
      "\n"
     ]
    },
    {
     "name": "stderr",
     "output_type": "stream",
     "text": [
      "<ipython-input-139-4c234f69dd5b>:35: SettingWithCopyWarning: \n",
      "A value is trying to be set on a copy of a slice from a DataFrame.\n",
      "Try using .loc[row_indexer,col_indexer] = value instead\n",
      "\n",
      "See the caveats in the documentation: https://pandas.pydata.org/pandas-docs/stable/user_guide/indexing.html#returning-a-view-versus-a-copy\n",
      "  d3['sma20'] = d3['close'].rolling(20, min_periods=1).mean()\n",
      "<ipython-input-139-4c234f69dd5b>:36: SettingWithCopyWarning: \n",
      "A value is trying to be set on a copy of a slice from a DataFrame.\n",
      "Try using .loc[row_indexer,col_indexer] = value instead\n",
      "\n",
      "See the caveats in the documentation: https://pandas.pydata.org/pandas-docs/stable/user_guide/indexing.html#returning-a-view-versus-a-copy\n",
      "  d3['sma50'] = d3['close'].rolling(50, min_periods=1).mean()\n"
     ]
    },
    {
     "name": "stdout",
     "output_type": "stream",
     "text": [
      "5\n",
      "\n"
     ]
    },
    {
     "name": "stderr",
     "output_type": "stream",
     "text": [
      "<ipython-input-139-4c234f69dd5b>:35: SettingWithCopyWarning: \n",
      "A value is trying to be set on a copy of a slice from a DataFrame.\n",
      "Try using .loc[row_indexer,col_indexer] = value instead\n",
      "\n",
      "See the caveats in the documentation: https://pandas.pydata.org/pandas-docs/stable/user_guide/indexing.html#returning-a-view-versus-a-copy\n",
      "  d3['sma20'] = d3['close'].rolling(20, min_periods=1).mean()\n",
      "<ipython-input-139-4c234f69dd5b>:36: SettingWithCopyWarning: \n",
      "A value is trying to be set on a copy of a slice from a DataFrame.\n",
      "Try using .loc[row_indexer,col_indexer] = value instead\n",
      "\n",
      "See the caveats in the documentation: https://pandas.pydata.org/pandas-docs/stable/user_guide/indexing.html#returning-a-view-versus-a-copy\n",
      "  d3['sma50'] = d3['close'].rolling(50, min_periods=1).mean()\n"
     ]
    },
    {
     "name": "stdout",
     "output_type": "stream",
     "text": [
      "6\n",
      "\n"
     ]
    },
    {
     "name": "stderr",
     "output_type": "stream",
     "text": [
      "<ipython-input-139-4c234f69dd5b>:35: SettingWithCopyWarning: \n",
      "A value is trying to be set on a copy of a slice from a DataFrame.\n",
      "Try using .loc[row_indexer,col_indexer] = value instead\n",
      "\n",
      "See the caveats in the documentation: https://pandas.pydata.org/pandas-docs/stable/user_guide/indexing.html#returning-a-view-versus-a-copy\n",
      "  d3['sma20'] = d3['close'].rolling(20, min_periods=1).mean()\n",
      "<ipython-input-139-4c234f69dd5b>:36: SettingWithCopyWarning: \n",
      "A value is trying to be set on a copy of a slice from a DataFrame.\n",
      "Try using .loc[row_indexer,col_indexer] = value instead\n",
      "\n",
      "See the caveats in the documentation: https://pandas.pydata.org/pandas-docs/stable/user_guide/indexing.html#returning-a-view-versus-a-copy\n",
      "  d3['sma50'] = d3['close'].rolling(50, min_periods=1).mean()\n"
     ]
    },
    {
     "name": "stdout",
     "output_type": "stream",
     "text": [
      "7\n",
      "\n"
     ]
    },
    {
     "name": "stderr",
     "output_type": "stream",
     "text": [
      "<ipython-input-139-4c234f69dd5b>:35: SettingWithCopyWarning: \n",
      "A value is trying to be set on a copy of a slice from a DataFrame.\n",
      "Try using .loc[row_indexer,col_indexer] = value instead\n",
      "\n",
      "See the caveats in the documentation: https://pandas.pydata.org/pandas-docs/stable/user_guide/indexing.html#returning-a-view-versus-a-copy\n",
      "  d3['sma20'] = d3['close'].rolling(20, min_periods=1).mean()\n",
      "<ipython-input-139-4c234f69dd5b>:36: SettingWithCopyWarning: \n",
      "A value is trying to be set on a copy of a slice from a DataFrame.\n",
      "Try using .loc[row_indexer,col_indexer] = value instead\n",
      "\n",
      "See the caveats in the documentation: https://pandas.pydata.org/pandas-docs/stable/user_guide/indexing.html#returning-a-view-versus-a-copy\n",
      "  d3['sma50'] = d3['close'].rolling(50, min_periods=1).mean()\n"
     ]
    },
    {
     "name": "stdout",
     "output_type": "stream",
     "text": [
      "8\n",
      "\n"
     ]
    },
    {
     "name": "stderr",
     "output_type": "stream",
     "text": [
      "<ipython-input-139-4c234f69dd5b>:35: SettingWithCopyWarning: \n",
      "A value is trying to be set on a copy of a slice from a DataFrame.\n",
      "Try using .loc[row_indexer,col_indexer] = value instead\n",
      "\n",
      "See the caveats in the documentation: https://pandas.pydata.org/pandas-docs/stable/user_guide/indexing.html#returning-a-view-versus-a-copy\n",
      "  d3['sma20'] = d3['close'].rolling(20, min_periods=1).mean()\n",
      "<ipython-input-139-4c234f69dd5b>:36: SettingWithCopyWarning: \n",
      "A value is trying to be set on a copy of a slice from a DataFrame.\n",
      "Try using .loc[row_indexer,col_indexer] = value instead\n",
      "\n",
      "See the caveats in the documentation: https://pandas.pydata.org/pandas-docs/stable/user_guide/indexing.html#returning-a-view-versus-a-copy\n",
      "  d3['sma50'] = d3['close'].rolling(50, min_periods=1).mean()\n"
     ]
    },
    {
     "name": "stdout",
     "output_type": "stream",
     "text": [
      "9\n",
      "\n"
     ]
    },
    {
     "name": "stderr",
     "output_type": "stream",
     "text": [
      "<ipython-input-139-4c234f69dd5b>:35: SettingWithCopyWarning: \n",
      "A value is trying to be set on a copy of a slice from a DataFrame.\n",
      "Try using .loc[row_indexer,col_indexer] = value instead\n",
      "\n",
      "See the caveats in the documentation: https://pandas.pydata.org/pandas-docs/stable/user_guide/indexing.html#returning-a-view-versus-a-copy\n",
      "  d3['sma20'] = d3['close'].rolling(20, min_periods=1).mean()\n",
      "<ipython-input-139-4c234f69dd5b>:36: SettingWithCopyWarning: \n",
      "A value is trying to be set on a copy of a slice from a DataFrame.\n",
      "Try using .loc[row_indexer,col_indexer] = value instead\n",
      "\n",
      "See the caveats in the documentation: https://pandas.pydata.org/pandas-docs/stable/user_guide/indexing.html#returning-a-view-versus-a-copy\n",
      "  d3['sma50'] = d3['close'].rolling(50, min_periods=1).mean()\n"
     ]
    },
    {
     "name": "stdout",
     "output_type": "stream",
     "text": [
      "10\n"
     ]
    },
    {
     "name": "stderr",
     "output_type": "stream",
     "text": [
      "<ipython-input-139-4c234f69dd5b>:35: SettingWithCopyWarning: \n",
      "A value is trying to be set on a copy of a slice from a DataFrame.\n",
      "Try using .loc[row_indexer,col_indexer] = value instead\n",
      "\n",
      "See the caveats in the documentation: https://pandas.pydata.org/pandas-docs/stable/user_guide/indexing.html#returning-a-view-versus-a-copy\n",
      "  d3['sma20'] = d3['close'].rolling(20, min_periods=1).mean()\n",
      "<ipython-input-139-4c234f69dd5b>:36: SettingWithCopyWarning: \n",
      "A value is trying to be set on a copy of a slice from a DataFrame.\n",
      "Try using .loc[row_indexer,col_indexer] = value instead\n",
      "\n",
      "See the caveats in the documentation: https://pandas.pydata.org/pandas-docs/stable/user_guide/indexing.html#returning-a-view-versus-a-copy\n",
      "  d3['sma50'] = d3['close'].rolling(50, min_periods=1).mean()\n"
     ]
    },
    {
     "name": "stdout",
     "output_type": "stream",
     "text": [
      "\n",
      "11\n",
      "\n"
     ]
    },
    {
     "name": "stderr",
     "output_type": "stream",
     "text": [
      "<ipython-input-139-4c234f69dd5b>:35: SettingWithCopyWarning: \n",
      "A value is trying to be set on a copy of a slice from a DataFrame.\n",
      "Try using .loc[row_indexer,col_indexer] = value instead\n",
      "\n",
      "See the caveats in the documentation: https://pandas.pydata.org/pandas-docs/stable/user_guide/indexing.html#returning-a-view-versus-a-copy\n",
      "  d3['sma20'] = d3['close'].rolling(20, min_periods=1).mean()\n",
      "<ipython-input-139-4c234f69dd5b>:36: SettingWithCopyWarning: \n",
      "A value is trying to be set on a copy of a slice from a DataFrame.\n",
      "Try using .loc[row_indexer,col_indexer] = value instead\n",
      "\n",
      "See the caveats in the documentation: https://pandas.pydata.org/pandas-docs/stable/user_guide/indexing.html#returning-a-view-versus-a-copy\n",
      "  d3['sma50'] = d3['close'].rolling(50, min_periods=1).mean()\n"
     ]
    },
    {
     "name": "stdout",
     "output_type": "stream",
     "text": [
      "12\n",
      "\n"
     ]
    },
    {
     "name": "stderr",
     "output_type": "stream",
     "text": [
      "<ipython-input-139-4c234f69dd5b>:35: SettingWithCopyWarning: \n",
      "A value is trying to be set on a copy of a slice from a DataFrame.\n",
      "Try using .loc[row_indexer,col_indexer] = value instead\n",
      "\n",
      "See the caveats in the documentation: https://pandas.pydata.org/pandas-docs/stable/user_guide/indexing.html#returning-a-view-versus-a-copy\n",
      "  d3['sma20'] = d3['close'].rolling(20, min_periods=1).mean()\n",
      "<ipython-input-139-4c234f69dd5b>:36: SettingWithCopyWarning: \n",
      "A value is trying to be set on a copy of a slice from a DataFrame.\n",
      "Try using .loc[row_indexer,col_indexer] = value instead\n",
      "\n",
      "See the caveats in the documentation: https://pandas.pydata.org/pandas-docs/stable/user_guide/indexing.html#returning-a-view-versus-a-copy\n",
      "  d3['sma50'] = d3['close'].rolling(50, min_periods=1).mean()\n"
     ]
    },
    {
     "name": "stdout",
     "output_type": "stream",
     "text": [
      "13\n",
      "\n"
     ]
    },
    {
     "name": "stderr",
     "output_type": "stream",
     "text": [
      "<ipython-input-139-4c234f69dd5b>:35: SettingWithCopyWarning: \n",
      "A value is trying to be set on a copy of a slice from a DataFrame.\n",
      "Try using .loc[row_indexer,col_indexer] = value instead\n",
      "\n",
      "See the caveats in the documentation: https://pandas.pydata.org/pandas-docs/stable/user_guide/indexing.html#returning-a-view-versus-a-copy\n",
      "  d3['sma20'] = d3['close'].rolling(20, min_periods=1).mean()\n",
      "<ipython-input-139-4c234f69dd5b>:36: SettingWithCopyWarning: \n",
      "A value is trying to be set on a copy of a slice from a DataFrame.\n",
      "Try using .loc[row_indexer,col_indexer] = value instead\n",
      "\n",
      "See the caveats in the documentation: https://pandas.pydata.org/pandas-docs/stable/user_guide/indexing.html#returning-a-view-versus-a-copy\n",
      "  d3['sma50'] = d3['close'].rolling(50, min_periods=1).mean()\n"
     ]
    },
    {
     "name": "stdout",
     "output_type": "stream",
     "text": [
      "14\n",
      "\n"
     ]
    },
    {
     "name": "stderr",
     "output_type": "stream",
     "text": [
      "<ipython-input-139-4c234f69dd5b>:35: SettingWithCopyWarning: \n",
      "A value is trying to be set on a copy of a slice from a DataFrame.\n",
      "Try using .loc[row_indexer,col_indexer] = value instead\n",
      "\n",
      "See the caveats in the documentation: https://pandas.pydata.org/pandas-docs/stable/user_guide/indexing.html#returning-a-view-versus-a-copy\n",
      "  d3['sma20'] = d3['close'].rolling(20, min_periods=1).mean()\n",
      "<ipython-input-139-4c234f69dd5b>:36: SettingWithCopyWarning: \n",
      "A value is trying to be set on a copy of a slice from a DataFrame.\n",
      "Try using .loc[row_indexer,col_indexer] = value instead\n",
      "\n",
      "See the caveats in the documentation: https://pandas.pydata.org/pandas-docs/stable/user_guide/indexing.html#returning-a-view-versus-a-copy\n",
      "  d3['sma50'] = d3['close'].rolling(50, min_periods=1).mean()\n"
     ]
    },
    {
     "name": "stdout",
     "output_type": "stream",
     "text": [
      "15\n",
      "\n"
     ]
    },
    {
     "name": "stderr",
     "output_type": "stream",
     "text": [
      "<ipython-input-139-4c234f69dd5b>:35: SettingWithCopyWarning: \n",
      "A value is trying to be set on a copy of a slice from a DataFrame.\n",
      "Try using .loc[row_indexer,col_indexer] = value instead\n",
      "\n",
      "See the caveats in the documentation: https://pandas.pydata.org/pandas-docs/stable/user_guide/indexing.html#returning-a-view-versus-a-copy\n",
      "  d3['sma20'] = d3['close'].rolling(20, min_periods=1).mean()\n",
      "<ipython-input-139-4c234f69dd5b>:36: SettingWithCopyWarning: \n",
      "A value is trying to be set on a copy of a slice from a DataFrame.\n",
      "Try using .loc[row_indexer,col_indexer] = value instead\n",
      "\n",
      "See the caveats in the documentation: https://pandas.pydata.org/pandas-docs/stable/user_guide/indexing.html#returning-a-view-versus-a-copy\n",
      "  d3['sma50'] = d3['close'].rolling(50, min_periods=1).mean()\n"
     ]
    },
    {
     "name": "stdout",
     "output_type": "stream",
     "text": [
      "16\n",
      "\n"
     ]
    },
    {
     "name": "stderr",
     "output_type": "stream",
     "text": [
      "<ipython-input-139-4c234f69dd5b>:35: SettingWithCopyWarning: \n",
      "A value is trying to be set on a copy of a slice from a DataFrame.\n",
      "Try using .loc[row_indexer,col_indexer] = value instead\n",
      "\n",
      "See the caveats in the documentation: https://pandas.pydata.org/pandas-docs/stable/user_guide/indexing.html#returning-a-view-versus-a-copy\n",
      "  d3['sma20'] = d3['close'].rolling(20, min_periods=1).mean()\n",
      "<ipython-input-139-4c234f69dd5b>:36: SettingWithCopyWarning: \n",
      "A value is trying to be set on a copy of a slice from a DataFrame.\n",
      "Try using .loc[row_indexer,col_indexer] = value instead\n",
      "\n",
      "See the caveats in the documentation: https://pandas.pydata.org/pandas-docs/stable/user_guide/indexing.html#returning-a-view-versus-a-copy\n",
      "  d3['sma50'] = d3['close'].rolling(50, min_periods=1).mean()\n"
     ]
    },
    {
     "name": "stdout",
     "output_type": "stream",
     "text": [
      "17\n",
      "\n"
     ]
    },
    {
     "name": "stderr",
     "output_type": "stream",
     "text": [
      "<ipython-input-139-4c234f69dd5b>:35: SettingWithCopyWarning: \n",
      "A value is trying to be set on a copy of a slice from a DataFrame.\n",
      "Try using .loc[row_indexer,col_indexer] = value instead\n",
      "\n",
      "See the caveats in the documentation: https://pandas.pydata.org/pandas-docs/stable/user_guide/indexing.html#returning-a-view-versus-a-copy\n",
      "  d3['sma20'] = d3['close'].rolling(20, min_periods=1).mean()\n",
      "<ipython-input-139-4c234f69dd5b>:36: SettingWithCopyWarning: \n",
      "A value is trying to be set on a copy of a slice from a DataFrame.\n",
      "Try using .loc[row_indexer,col_indexer] = value instead\n",
      "\n",
      "See the caveats in the documentation: https://pandas.pydata.org/pandas-docs/stable/user_guide/indexing.html#returning-a-view-versus-a-copy\n",
      "  d3['sma50'] = d3['close'].rolling(50, min_periods=1).mean()\n"
     ]
    },
    {
     "name": "stdout",
     "output_type": "stream",
     "text": [
      "18\n",
      "\n"
     ]
    },
    {
     "name": "stderr",
     "output_type": "stream",
     "text": [
      "<ipython-input-139-4c234f69dd5b>:35: SettingWithCopyWarning: \n",
      "A value is trying to be set on a copy of a slice from a DataFrame.\n",
      "Try using .loc[row_indexer,col_indexer] = value instead\n",
      "\n",
      "See the caveats in the documentation: https://pandas.pydata.org/pandas-docs/stable/user_guide/indexing.html#returning-a-view-versus-a-copy\n",
      "  d3['sma20'] = d3['close'].rolling(20, min_periods=1).mean()\n",
      "<ipython-input-139-4c234f69dd5b>:36: SettingWithCopyWarning: \n",
      "A value is trying to be set on a copy of a slice from a DataFrame.\n",
      "Try using .loc[row_indexer,col_indexer] = value instead\n",
      "\n",
      "See the caveats in the documentation: https://pandas.pydata.org/pandas-docs/stable/user_guide/indexing.html#returning-a-view-versus-a-copy\n",
      "  d3['sma50'] = d3['close'].rolling(50, min_periods=1).mean()\n"
     ]
    },
    {
     "name": "stdout",
     "output_type": "stream",
     "text": [
      "19\n",
      "\n"
     ]
    },
    {
     "name": "stderr",
     "output_type": "stream",
     "text": [
      "<ipython-input-139-4c234f69dd5b>:35: SettingWithCopyWarning: \n",
      "A value is trying to be set on a copy of a slice from a DataFrame.\n",
      "Try using .loc[row_indexer,col_indexer] = value instead\n",
      "\n",
      "See the caveats in the documentation: https://pandas.pydata.org/pandas-docs/stable/user_guide/indexing.html#returning-a-view-versus-a-copy\n",
      "  d3['sma20'] = d3['close'].rolling(20, min_periods=1).mean()\n",
      "<ipython-input-139-4c234f69dd5b>:36: SettingWithCopyWarning: \n",
      "A value is trying to be set on a copy of a slice from a DataFrame.\n",
      "Try using .loc[row_indexer,col_indexer] = value instead\n",
      "\n",
      "See the caveats in the documentation: https://pandas.pydata.org/pandas-docs/stable/user_guide/indexing.html#returning-a-view-versus-a-copy\n",
      "  d3['sma50'] = d3['close'].rolling(50, min_periods=1).mean()\n"
     ]
    },
    {
     "name": "stdout",
     "output_type": "stream",
     "text": [
      "20\n"
     ]
    },
    {
     "name": "stderr",
     "output_type": "stream",
     "text": [
      "<ipython-input-139-4c234f69dd5b>:35: SettingWithCopyWarning: \n",
      "A value is trying to be set on a copy of a slice from a DataFrame.\n",
      "Try using .loc[row_indexer,col_indexer] = value instead\n",
      "\n",
      "See the caveats in the documentation: https://pandas.pydata.org/pandas-docs/stable/user_guide/indexing.html#returning-a-view-versus-a-copy\n",
      "  d3['sma20'] = d3['close'].rolling(20, min_periods=1).mean()\n",
      "<ipython-input-139-4c234f69dd5b>:36: SettingWithCopyWarning: \n",
      "A value is trying to be set on a copy of a slice from a DataFrame.\n",
      "Try using .loc[row_indexer,col_indexer] = value instead\n",
      "\n",
      "See the caveats in the documentation: https://pandas.pydata.org/pandas-docs/stable/user_guide/indexing.html#returning-a-view-versus-a-copy\n",
      "  d3['sma50'] = d3['close'].rolling(50, min_periods=1).mean()\n"
     ]
    },
    {
     "name": "stdout",
     "output_type": "stream",
     "text": [
      "\n",
      "21\n",
      "\n"
     ]
    },
    {
     "name": "stderr",
     "output_type": "stream",
     "text": [
      "<ipython-input-139-4c234f69dd5b>:35: SettingWithCopyWarning: \n",
      "A value is trying to be set on a copy of a slice from a DataFrame.\n",
      "Try using .loc[row_indexer,col_indexer] = value instead\n",
      "\n",
      "See the caveats in the documentation: https://pandas.pydata.org/pandas-docs/stable/user_guide/indexing.html#returning-a-view-versus-a-copy\n",
      "  d3['sma20'] = d3['close'].rolling(20, min_periods=1).mean()\n",
      "<ipython-input-139-4c234f69dd5b>:36: SettingWithCopyWarning: \n",
      "A value is trying to be set on a copy of a slice from a DataFrame.\n",
      "Try using .loc[row_indexer,col_indexer] = value instead\n",
      "\n",
      "See the caveats in the documentation: https://pandas.pydata.org/pandas-docs/stable/user_guide/indexing.html#returning-a-view-versus-a-copy\n",
      "  d3['sma50'] = d3['close'].rolling(50, min_periods=1).mean()\n"
     ]
    },
    {
     "name": "stdout",
     "output_type": "stream",
     "text": [
      "22\n",
      "\n"
     ]
    },
    {
     "name": "stderr",
     "output_type": "stream",
     "text": [
      "<ipython-input-139-4c234f69dd5b>:35: SettingWithCopyWarning: \n",
      "A value is trying to be set on a copy of a slice from a DataFrame.\n",
      "Try using .loc[row_indexer,col_indexer] = value instead\n",
      "\n",
      "See the caveats in the documentation: https://pandas.pydata.org/pandas-docs/stable/user_guide/indexing.html#returning-a-view-versus-a-copy\n",
      "  d3['sma20'] = d3['close'].rolling(20, min_periods=1).mean()\n",
      "<ipython-input-139-4c234f69dd5b>:36: SettingWithCopyWarning: \n",
      "A value is trying to be set on a copy of a slice from a DataFrame.\n",
      "Try using .loc[row_indexer,col_indexer] = value instead\n",
      "\n",
      "See the caveats in the documentation: https://pandas.pydata.org/pandas-docs/stable/user_guide/indexing.html#returning-a-view-versus-a-copy\n",
      "  d3['sma50'] = d3['close'].rolling(50, min_periods=1).mean()\n"
     ]
    },
    {
     "name": "stdout",
     "output_type": "stream",
     "text": [
      "23\n",
      "\n"
     ]
    },
    {
     "name": "stderr",
     "output_type": "stream",
     "text": [
      "<ipython-input-139-4c234f69dd5b>:35: SettingWithCopyWarning: \n",
      "A value is trying to be set on a copy of a slice from a DataFrame.\n",
      "Try using .loc[row_indexer,col_indexer] = value instead\n",
      "\n",
      "See the caveats in the documentation: https://pandas.pydata.org/pandas-docs/stable/user_guide/indexing.html#returning-a-view-versus-a-copy\n",
      "  d3['sma20'] = d3['close'].rolling(20, min_periods=1).mean()\n",
      "<ipython-input-139-4c234f69dd5b>:36: SettingWithCopyWarning: \n",
      "A value is trying to be set on a copy of a slice from a DataFrame.\n",
      "Try using .loc[row_indexer,col_indexer] = value instead\n",
      "\n",
      "See the caveats in the documentation: https://pandas.pydata.org/pandas-docs/stable/user_guide/indexing.html#returning-a-view-versus-a-copy\n",
      "  d3['sma50'] = d3['close'].rolling(50, min_periods=1).mean()\n"
     ]
    },
    {
     "name": "stdout",
     "output_type": "stream",
     "text": [
      "24\n",
      "\n"
     ]
    },
    {
     "name": "stderr",
     "output_type": "stream",
     "text": [
      "<ipython-input-139-4c234f69dd5b>:35: SettingWithCopyWarning: \n",
      "A value is trying to be set on a copy of a slice from a DataFrame.\n",
      "Try using .loc[row_indexer,col_indexer] = value instead\n",
      "\n",
      "See the caveats in the documentation: https://pandas.pydata.org/pandas-docs/stable/user_guide/indexing.html#returning-a-view-versus-a-copy\n",
      "  d3['sma20'] = d3['close'].rolling(20, min_periods=1).mean()\n",
      "<ipython-input-139-4c234f69dd5b>:36: SettingWithCopyWarning: \n",
      "A value is trying to be set on a copy of a slice from a DataFrame.\n",
      "Try using .loc[row_indexer,col_indexer] = value instead\n",
      "\n",
      "See the caveats in the documentation: https://pandas.pydata.org/pandas-docs/stable/user_guide/indexing.html#returning-a-view-versus-a-copy\n",
      "  d3['sma50'] = d3['close'].rolling(50, min_periods=1).mean()\n"
     ]
    },
    {
     "name": "stdout",
     "output_type": "stream",
     "text": [
      "25\n",
      "\n"
     ]
    },
    {
     "name": "stderr",
     "output_type": "stream",
     "text": [
      "<ipython-input-139-4c234f69dd5b>:35: SettingWithCopyWarning: \n",
      "A value is trying to be set on a copy of a slice from a DataFrame.\n",
      "Try using .loc[row_indexer,col_indexer] = value instead\n",
      "\n",
      "See the caveats in the documentation: https://pandas.pydata.org/pandas-docs/stable/user_guide/indexing.html#returning-a-view-versus-a-copy\n",
      "  d3['sma20'] = d3['close'].rolling(20, min_periods=1).mean()\n",
      "<ipython-input-139-4c234f69dd5b>:36: SettingWithCopyWarning: \n",
      "A value is trying to be set on a copy of a slice from a DataFrame.\n",
      "Try using .loc[row_indexer,col_indexer] = value instead\n",
      "\n",
      "See the caveats in the documentation: https://pandas.pydata.org/pandas-docs/stable/user_guide/indexing.html#returning-a-view-versus-a-copy\n",
      "  d3['sma50'] = d3['close'].rolling(50, min_periods=1).mean()\n"
     ]
    },
    {
     "name": "stdout",
     "output_type": "stream",
     "text": [
      "26\n"
     ]
    },
    {
     "name": "stderr",
     "output_type": "stream",
     "text": [
      "<ipython-input-139-4c234f69dd5b>:35: SettingWithCopyWarning: \n",
      "A value is trying to be set on a copy of a slice from a DataFrame.\n",
      "Try using .loc[row_indexer,col_indexer] = value instead\n",
      "\n",
      "See the caveats in the documentation: https://pandas.pydata.org/pandas-docs/stable/user_guide/indexing.html#returning-a-view-versus-a-copy\n",
      "  d3['sma20'] = d3['close'].rolling(20, min_periods=1).mean()\n",
      "<ipython-input-139-4c234f69dd5b>:36: SettingWithCopyWarning: \n",
      "A value is trying to be set on a copy of a slice from a DataFrame.\n",
      "Try using .loc[row_indexer,col_indexer] = value instead\n",
      "\n",
      "See the caveats in the documentation: https://pandas.pydata.org/pandas-docs/stable/user_guide/indexing.html#returning-a-view-versus-a-copy\n",
      "  d3['sma50'] = d3['close'].rolling(50, min_periods=1).mean()\n"
     ]
    },
    {
     "name": "stdout",
     "output_type": "stream",
     "text": [
      "\n",
      "27\n",
      "\n"
     ]
    },
    {
     "name": "stderr",
     "output_type": "stream",
     "text": [
      "<ipython-input-139-4c234f69dd5b>:35: SettingWithCopyWarning: \n",
      "A value is trying to be set on a copy of a slice from a DataFrame.\n",
      "Try using .loc[row_indexer,col_indexer] = value instead\n",
      "\n",
      "See the caveats in the documentation: https://pandas.pydata.org/pandas-docs/stable/user_guide/indexing.html#returning-a-view-versus-a-copy\n",
      "  d3['sma20'] = d3['close'].rolling(20, min_periods=1).mean()\n",
      "<ipython-input-139-4c234f69dd5b>:36: SettingWithCopyWarning: \n",
      "A value is trying to be set on a copy of a slice from a DataFrame.\n",
      "Try using .loc[row_indexer,col_indexer] = value instead\n",
      "\n",
      "See the caveats in the documentation: https://pandas.pydata.org/pandas-docs/stable/user_guide/indexing.html#returning-a-view-versus-a-copy\n",
      "  d3['sma50'] = d3['close'].rolling(50, min_periods=1).mean()\n"
     ]
    },
    {
     "name": "stdout",
     "output_type": "stream",
     "text": [
      "28\n",
      "\n"
     ]
    },
    {
     "name": "stderr",
     "output_type": "stream",
     "text": [
      "<ipython-input-139-4c234f69dd5b>:35: SettingWithCopyWarning: \n",
      "A value is trying to be set on a copy of a slice from a DataFrame.\n",
      "Try using .loc[row_indexer,col_indexer] = value instead\n",
      "\n",
      "See the caveats in the documentation: https://pandas.pydata.org/pandas-docs/stable/user_guide/indexing.html#returning-a-view-versus-a-copy\n",
      "  d3['sma20'] = d3['close'].rolling(20, min_periods=1).mean()\n",
      "<ipython-input-139-4c234f69dd5b>:36: SettingWithCopyWarning: \n",
      "A value is trying to be set on a copy of a slice from a DataFrame.\n",
      "Try using .loc[row_indexer,col_indexer] = value instead\n",
      "\n",
      "See the caveats in the documentation: https://pandas.pydata.org/pandas-docs/stable/user_guide/indexing.html#returning-a-view-versus-a-copy\n",
      "  d3['sma50'] = d3['close'].rolling(50, min_periods=1).mean()\n"
     ]
    },
    {
     "name": "stdout",
     "output_type": "stream",
     "text": [
      "29\n",
      "\n"
     ]
    },
    {
     "name": "stderr",
     "output_type": "stream",
     "text": [
      "<ipython-input-139-4c234f69dd5b>:35: SettingWithCopyWarning: \n",
      "A value is trying to be set on a copy of a slice from a DataFrame.\n",
      "Try using .loc[row_indexer,col_indexer] = value instead\n",
      "\n",
      "See the caveats in the documentation: https://pandas.pydata.org/pandas-docs/stable/user_guide/indexing.html#returning-a-view-versus-a-copy\n",
      "  d3['sma20'] = d3['close'].rolling(20, min_periods=1).mean()\n",
      "<ipython-input-139-4c234f69dd5b>:36: SettingWithCopyWarning: \n",
      "A value is trying to be set on a copy of a slice from a DataFrame.\n",
      "Try using .loc[row_indexer,col_indexer] = value instead\n",
      "\n",
      "See the caveats in the documentation: https://pandas.pydata.org/pandas-docs/stable/user_guide/indexing.html#returning-a-view-versus-a-copy\n",
      "  d3['sma50'] = d3['close'].rolling(50, min_periods=1).mean()\n"
     ]
    },
    {
     "name": "stdout",
     "output_type": "stream",
     "text": [
      "30\n",
      "\n"
     ]
    },
    {
     "name": "stderr",
     "output_type": "stream",
     "text": [
      "<ipython-input-139-4c234f69dd5b>:35: SettingWithCopyWarning: \n",
      "A value is trying to be set on a copy of a slice from a DataFrame.\n",
      "Try using .loc[row_indexer,col_indexer] = value instead\n",
      "\n",
      "See the caveats in the documentation: https://pandas.pydata.org/pandas-docs/stable/user_guide/indexing.html#returning-a-view-versus-a-copy\n",
      "  d3['sma20'] = d3['close'].rolling(20, min_periods=1).mean()\n",
      "<ipython-input-139-4c234f69dd5b>:36: SettingWithCopyWarning: \n",
      "A value is trying to be set on a copy of a slice from a DataFrame.\n",
      "Try using .loc[row_indexer,col_indexer] = value instead\n",
      "\n",
      "See the caveats in the documentation: https://pandas.pydata.org/pandas-docs/stable/user_guide/indexing.html#returning-a-view-versus-a-copy\n",
      "  d3['sma50'] = d3['close'].rolling(50, min_periods=1).mean()\n"
     ]
    },
    {
     "name": "stdout",
     "output_type": "stream",
     "text": [
      "31\n",
      "\n"
     ]
    },
    {
     "name": "stderr",
     "output_type": "stream",
     "text": [
      "<ipython-input-139-4c234f69dd5b>:35: SettingWithCopyWarning: \n",
      "A value is trying to be set on a copy of a slice from a DataFrame.\n",
      "Try using .loc[row_indexer,col_indexer] = value instead\n",
      "\n",
      "See the caveats in the documentation: https://pandas.pydata.org/pandas-docs/stable/user_guide/indexing.html#returning-a-view-versus-a-copy\n",
      "  d3['sma20'] = d3['close'].rolling(20, min_periods=1).mean()\n",
      "<ipython-input-139-4c234f69dd5b>:36: SettingWithCopyWarning: \n",
      "A value is trying to be set on a copy of a slice from a DataFrame.\n",
      "Try using .loc[row_indexer,col_indexer] = value instead\n",
      "\n",
      "See the caveats in the documentation: https://pandas.pydata.org/pandas-docs/stable/user_guide/indexing.html#returning-a-view-versus-a-copy\n",
      "  d3['sma50'] = d3['close'].rolling(50, min_periods=1).mean()\n"
     ]
    },
    {
     "name": "stdout",
     "output_type": "stream",
     "text": [
      "32\n",
      "\n"
     ]
    },
    {
     "name": "stderr",
     "output_type": "stream",
     "text": [
      "<ipython-input-139-4c234f69dd5b>:35: SettingWithCopyWarning: \n",
      "A value is trying to be set on a copy of a slice from a DataFrame.\n",
      "Try using .loc[row_indexer,col_indexer] = value instead\n",
      "\n",
      "See the caveats in the documentation: https://pandas.pydata.org/pandas-docs/stable/user_guide/indexing.html#returning-a-view-versus-a-copy\n",
      "  d3['sma20'] = d3['close'].rolling(20, min_periods=1).mean()\n",
      "<ipython-input-139-4c234f69dd5b>:36: SettingWithCopyWarning: \n",
      "A value is trying to be set on a copy of a slice from a DataFrame.\n",
      "Try using .loc[row_indexer,col_indexer] = value instead\n",
      "\n",
      "See the caveats in the documentation: https://pandas.pydata.org/pandas-docs/stable/user_guide/indexing.html#returning-a-view-versus-a-copy\n",
      "  d3['sma50'] = d3['close'].rolling(50, min_periods=1).mean()\n"
     ]
    },
    {
     "name": "stdout",
     "output_type": "stream",
     "text": [
      "33\n",
      "\n"
     ]
    },
    {
     "name": "stderr",
     "output_type": "stream",
     "text": [
      "<ipython-input-139-4c234f69dd5b>:35: SettingWithCopyWarning: \n",
      "A value is trying to be set on a copy of a slice from a DataFrame.\n",
      "Try using .loc[row_indexer,col_indexer] = value instead\n",
      "\n",
      "See the caveats in the documentation: https://pandas.pydata.org/pandas-docs/stable/user_guide/indexing.html#returning-a-view-versus-a-copy\n",
      "  d3['sma20'] = d3['close'].rolling(20, min_periods=1).mean()\n",
      "<ipython-input-139-4c234f69dd5b>:36: SettingWithCopyWarning: \n",
      "A value is trying to be set on a copy of a slice from a DataFrame.\n",
      "Try using .loc[row_indexer,col_indexer] = value instead\n",
      "\n",
      "See the caveats in the documentation: https://pandas.pydata.org/pandas-docs/stable/user_guide/indexing.html#returning-a-view-versus-a-copy\n",
      "  d3['sma50'] = d3['close'].rolling(50, min_periods=1).mean()\n"
     ]
    },
    {
     "name": "stdout",
     "output_type": "stream",
     "text": [
      "34\n",
      "\n"
     ]
    },
    {
     "name": "stderr",
     "output_type": "stream",
     "text": [
      "<ipython-input-139-4c234f69dd5b>:35: SettingWithCopyWarning: \n",
      "A value is trying to be set on a copy of a slice from a DataFrame.\n",
      "Try using .loc[row_indexer,col_indexer] = value instead\n",
      "\n",
      "See the caveats in the documentation: https://pandas.pydata.org/pandas-docs/stable/user_guide/indexing.html#returning-a-view-versus-a-copy\n",
      "  d3['sma20'] = d3['close'].rolling(20, min_periods=1).mean()\n",
      "<ipython-input-139-4c234f69dd5b>:36: SettingWithCopyWarning: \n",
      "A value is trying to be set on a copy of a slice from a DataFrame.\n",
      "Try using .loc[row_indexer,col_indexer] = value instead\n",
      "\n",
      "See the caveats in the documentation: https://pandas.pydata.org/pandas-docs/stable/user_guide/indexing.html#returning-a-view-versus-a-copy\n",
      "  d3['sma50'] = d3['close'].rolling(50, min_periods=1).mean()\n"
     ]
    },
    {
     "name": "stdout",
     "output_type": "stream",
     "text": [
      "35\n",
      "\n"
     ]
    },
    {
     "name": "stderr",
     "output_type": "stream",
     "text": [
      "<ipython-input-139-4c234f69dd5b>:35: SettingWithCopyWarning: \n",
      "A value is trying to be set on a copy of a slice from a DataFrame.\n",
      "Try using .loc[row_indexer,col_indexer] = value instead\n",
      "\n",
      "See the caveats in the documentation: https://pandas.pydata.org/pandas-docs/stable/user_guide/indexing.html#returning-a-view-versus-a-copy\n",
      "  d3['sma20'] = d3['close'].rolling(20, min_periods=1).mean()\n",
      "<ipython-input-139-4c234f69dd5b>:36: SettingWithCopyWarning: \n",
      "A value is trying to be set on a copy of a slice from a DataFrame.\n",
      "Try using .loc[row_indexer,col_indexer] = value instead\n",
      "\n",
      "See the caveats in the documentation: https://pandas.pydata.org/pandas-docs/stable/user_guide/indexing.html#returning-a-view-versus-a-copy\n",
      "  d3['sma50'] = d3['close'].rolling(50, min_periods=1).mean()\n"
     ]
    },
    {
     "name": "stdout",
     "output_type": "stream",
     "text": [
      "36\n",
      "\n"
     ]
    },
    {
     "name": "stderr",
     "output_type": "stream",
     "text": [
      "<ipython-input-139-4c234f69dd5b>:35: SettingWithCopyWarning: \n",
      "A value is trying to be set on a copy of a slice from a DataFrame.\n",
      "Try using .loc[row_indexer,col_indexer] = value instead\n",
      "\n",
      "See the caveats in the documentation: https://pandas.pydata.org/pandas-docs/stable/user_guide/indexing.html#returning-a-view-versus-a-copy\n",
      "  d3['sma20'] = d3['close'].rolling(20, min_periods=1).mean()\n",
      "<ipython-input-139-4c234f69dd5b>:36: SettingWithCopyWarning: \n",
      "A value is trying to be set on a copy of a slice from a DataFrame.\n",
      "Try using .loc[row_indexer,col_indexer] = value instead\n",
      "\n",
      "See the caveats in the documentation: https://pandas.pydata.org/pandas-docs/stable/user_guide/indexing.html#returning-a-view-versus-a-copy\n",
      "  d3['sma50'] = d3['close'].rolling(50, min_periods=1).mean()\n"
     ]
    },
    {
     "name": "stdout",
     "output_type": "stream",
     "text": [
      "37\n",
      "\n"
     ]
    },
    {
     "name": "stderr",
     "output_type": "stream",
     "text": [
      "<ipython-input-139-4c234f69dd5b>:35: SettingWithCopyWarning: \n",
      "A value is trying to be set on a copy of a slice from a DataFrame.\n",
      "Try using .loc[row_indexer,col_indexer] = value instead\n",
      "\n",
      "See the caveats in the documentation: https://pandas.pydata.org/pandas-docs/stable/user_guide/indexing.html#returning-a-view-versus-a-copy\n",
      "  d3['sma20'] = d3['close'].rolling(20, min_periods=1).mean()\n",
      "<ipython-input-139-4c234f69dd5b>:36: SettingWithCopyWarning: \n",
      "A value is trying to be set on a copy of a slice from a DataFrame.\n",
      "Try using .loc[row_indexer,col_indexer] = value instead\n",
      "\n",
      "See the caveats in the documentation: https://pandas.pydata.org/pandas-docs/stable/user_guide/indexing.html#returning-a-view-versus-a-copy\n",
      "  d3['sma50'] = d3['close'].rolling(50, min_periods=1).mean()\n"
     ]
    },
    {
     "name": "stdout",
     "output_type": "stream",
     "text": [
      "38\n",
      "\n"
     ]
    },
    {
     "name": "stderr",
     "output_type": "stream",
     "text": [
      "<ipython-input-139-4c234f69dd5b>:35: SettingWithCopyWarning: \n",
      "A value is trying to be set on a copy of a slice from a DataFrame.\n",
      "Try using .loc[row_indexer,col_indexer] = value instead\n",
      "\n",
      "See the caveats in the documentation: https://pandas.pydata.org/pandas-docs/stable/user_guide/indexing.html#returning-a-view-versus-a-copy\n",
      "  d3['sma20'] = d3['close'].rolling(20, min_periods=1).mean()\n",
      "<ipython-input-139-4c234f69dd5b>:36: SettingWithCopyWarning: \n",
      "A value is trying to be set on a copy of a slice from a DataFrame.\n",
      "Try using .loc[row_indexer,col_indexer] = value instead\n",
      "\n",
      "See the caveats in the documentation: https://pandas.pydata.org/pandas-docs/stable/user_guide/indexing.html#returning-a-view-versus-a-copy\n",
      "  d3['sma50'] = d3['close'].rolling(50, min_periods=1).mean()\n"
     ]
    },
    {
     "name": "stdout",
     "output_type": "stream",
     "text": [
      "39\n",
      "\n"
     ]
    },
    {
     "name": "stderr",
     "output_type": "stream",
     "text": [
      "<ipython-input-139-4c234f69dd5b>:35: SettingWithCopyWarning: \n",
      "A value is trying to be set on a copy of a slice from a DataFrame.\n",
      "Try using .loc[row_indexer,col_indexer] = value instead\n",
      "\n",
      "See the caveats in the documentation: https://pandas.pydata.org/pandas-docs/stable/user_guide/indexing.html#returning-a-view-versus-a-copy\n",
      "  d3['sma20'] = d3['close'].rolling(20, min_periods=1).mean()\n",
      "<ipython-input-139-4c234f69dd5b>:36: SettingWithCopyWarning: \n",
      "A value is trying to be set on a copy of a slice from a DataFrame.\n",
      "Try using .loc[row_indexer,col_indexer] = value instead\n",
      "\n",
      "See the caveats in the documentation: https://pandas.pydata.org/pandas-docs/stable/user_guide/indexing.html#returning-a-view-versus-a-copy\n",
      "  d3['sma50'] = d3['close'].rolling(50, min_periods=1).mean()\n"
     ]
    },
    {
     "name": "stdout",
     "output_type": "stream",
     "text": [
      "40\n",
      "\n"
     ]
    },
    {
     "name": "stderr",
     "output_type": "stream",
     "text": [
      "<ipython-input-139-4c234f69dd5b>:35: SettingWithCopyWarning: \n",
      "A value is trying to be set on a copy of a slice from a DataFrame.\n",
      "Try using .loc[row_indexer,col_indexer] = value instead\n",
      "\n",
      "See the caveats in the documentation: https://pandas.pydata.org/pandas-docs/stable/user_guide/indexing.html#returning-a-view-versus-a-copy\n",
      "  d3['sma20'] = d3['close'].rolling(20, min_periods=1).mean()\n",
      "<ipython-input-139-4c234f69dd5b>:36: SettingWithCopyWarning: \n",
      "A value is trying to be set on a copy of a slice from a DataFrame.\n",
      "Try using .loc[row_indexer,col_indexer] = value instead\n",
      "\n",
      "See the caveats in the documentation: https://pandas.pydata.org/pandas-docs/stable/user_guide/indexing.html#returning-a-view-versus-a-copy\n",
      "  d3['sma50'] = d3['close'].rolling(50, min_periods=1).mean()\n"
     ]
    },
    {
     "ename": "KeyboardInterrupt",
     "evalue": "",
     "output_type": "error",
     "traceback": [
      "\u001b[1;31m---------------------------------------------------------------------------\u001b[0m",
      "\u001b[1;31mAttributeError\u001b[0m                            Traceback (most recent call last)",
      "\u001b[1;32m~\\anaconda3\\lib\\site-packages\\PIL\\ImageFile.py\u001b[0m in \u001b[0;36m_save\u001b[1;34m(im, fp, tile, bufsize)\u001b[0m\n\u001b[0;32m    509\u001b[0m     \u001b[1;32mtry\u001b[0m\u001b[1;33m:\u001b[0m\u001b[1;33m\u001b[0m\u001b[1;33m\u001b[0m\u001b[0m\n\u001b[1;32m--> 510\u001b[1;33m         \u001b[0mfh\u001b[0m \u001b[1;33m=\u001b[0m \u001b[0mfp\u001b[0m\u001b[1;33m.\u001b[0m\u001b[0mfileno\u001b[0m\u001b[1;33m(\u001b[0m\u001b[1;33m)\u001b[0m\u001b[1;33m\u001b[0m\u001b[1;33m\u001b[0m\u001b[0m\n\u001b[0m\u001b[0;32m    511\u001b[0m         \u001b[0mfp\u001b[0m\u001b[1;33m.\u001b[0m\u001b[0mflush\u001b[0m\u001b[1;33m(\u001b[0m\u001b[1;33m)\u001b[0m\u001b[1;33m\u001b[0m\u001b[1;33m\u001b[0m\u001b[0m\n",
      "\u001b[1;31mAttributeError\u001b[0m: '_idat' object has no attribute 'fileno'",
      "\nDuring handling of the above exception, another exception occurred:\n",
      "\u001b[1;31mKeyboardInterrupt\u001b[0m                         Traceback (most recent call last)",
      "\u001b[1;32m<ipython-input-145-7994075e971e>\u001b[0m in \u001b[0;36m<module>\u001b[1;34m\u001b[0m\n\u001b[0;32m    241\u001b[0m     \u001b[0mprint\u001b[0m\u001b[1;33m(\u001b[0m\u001b[0mx\u001b[0m\u001b[1;33m)\u001b[0m\u001b[1;33m\u001b[0m\u001b[1;33m\u001b[0m\u001b[0m\n\u001b[0;32m    242\u001b[0m     \u001b[0mdate_of_interest\u001b[0m\u001b[1;33m=\u001b[0m\u001b[0mff\u001b[0m\u001b[1;33m[\u001b[0m\u001b[0mx\u001b[0m\u001b[1;33m:\u001b[0m\u001b[0mx\u001b[0m\u001b[1;33m+\u001b[0m\u001b[1;36m1\u001b[0m\u001b[1;33m]\u001b[0m\u001b[1;33m[\u001b[0m\u001b[1;34m'date'\u001b[0m\u001b[1;33m]\u001b[0m\u001b[1;33m.\u001b[0m\u001b[0mvalues\u001b[0m\u001b[1;33m[\u001b[0m\u001b[1;36m0\u001b[0m\u001b[1;33m]\u001b[0m\u001b[1;33m\u001b[0m\u001b[1;33m\u001b[0m\u001b[0m\n\u001b[1;32m--> 243\u001b[1;33m     \u001b[0mplotdata\u001b[0m\u001b[1;33m(\u001b[0m\u001b[0mdata\u001b[0m\u001b[1;33m,\u001b[0m\u001b[0mdate_of_interest\u001b[0m\u001b[1;33m,\u001b[0m\u001b[1;36m10\u001b[0m\u001b[1;33m,\u001b[0m\u001b[1;36m100\u001b[0m\u001b[1;33m,\u001b[0m\u001b[0mcoin_n\u001b[0m\u001b[1;33m,\u001b[0m\u001b[0mind\u001b[0m\u001b[1;33m)\u001b[0m\u001b[1;33m\u001b[0m\u001b[1;33m\u001b[0m\u001b[0m\n\u001b[0m\u001b[0;32m    244\u001b[0m    \u001b[1;31m# plt.savefig(date_of_interest+'.png')\u001b[0m\u001b[1;33m\u001b[0m\u001b[1;33m\u001b[0m\u001b[1;33m\u001b[0m\u001b[0m\n\u001b[0;32m    245\u001b[0m     \u001b[1;31m#plt.draw()\u001b[0m\u001b[1;33m\u001b[0m\u001b[1;33m\u001b[0m\u001b[1;33m\u001b[0m\u001b[0m\n",
      "\u001b[1;32m<ipython-input-139-4c234f69dd5b>\u001b[0m in \u001b[0;36mplotdata\u001b[1;34m(data, start, date_extention, previous, coin, ind)\u001b[0m\n\u001b[0;32m     79\u001b[0m \u001b[1;33m\u001b[0m\u001b[0m\n\u001b[0;32m     80\u001b[0m \u001b[1;33m\u001b[0m\u001b[0m\n\u001b[1;32m---> 81\u001b[1;33m     \u001b[0mplt\u001b[0m\u001b[1;33m.\u001b[0m\u001b[0msavefig\u001b[0m\u001b[1;33m(\u001b[0m\u001b[0mind\u001b[0m\u001b[1;33m+\u001b[0m\u001b[1;34m'-'\u001b[0m\u001b[1;33m+\u001b[0m\u001b[0mcoin\u001b[0m\u001b[1;33m+\u001b[0m\u001b[1;34m'-'\u001b[0m\u001b[1;33m+\u001b[0m\u001b[0mstart_date\u001b[0m\u001b[1;33m+\u001b[0m\u001b[1;34m'.png'\u001b[0m\u001b[1;33m)\u001b[0m\u001b[1;33m\u001b[0m\u001b[1;33m\u001b[0m\u001b[0m\n\u001b[0m\u001b[0;32m     82\u001b[0m     \u001b[0mplt\u001b[0m\u001b[1;33m.\u001b[0m\u001b[0mdraw\u001b[0m\u001b[1;33m(\u001b[0m\u001b[1;33m)\u001b[0m\u001b[1;33m\u001b[0m\u001b[1;33m\u001b[0m\u001b[0m\n\u001b[0;32m     83\u001b[0m     \u001b[0mplt\u001b[0m\u001b[1;33m.\u001b[0m\u001b[0mclose\u001b[0m\u001b[1;33m(\u001b[0m\u001b[1;33m)\u001b[0m\u001b[1;33m\u001b[0m\u001b[1;33m\u001b[0m\u001b[0m\n",
      "\u001b[1;32m~\\anaconda3\\lib\\site-packages\\matplotlib\\pyplot.py\u001b[0m in \u001b[0;36msavefig\u001b[1;34m(*args, **kwargs)\u001b[0m\n\u001b[0;32m    857\u001b[0m \u001b[1;32mdef\u001b[0m \u001b[0msavefig\u001b[0m\u001b[1;33m(\u001b[0m\u001b[1;33m*\u001b[0m\u001b[0margs\u001b[0m\u001b[1;33m,\u001b[0m \u001b[1;33m**\u001b[0m\u001b[0mkwargs\u001b[0m\u001b[1;33m)\u001b[0m\u001b[1;33m:\u001b[0m\u001b[1;33m\u001b[0m\u001b[1;33m\u001b[0m\u001b[0m\n\u001b[0;32m    858\u001b[0m     \u001b[0mfig\u001b[0m \u001b[1;33m=\u001b[0m \u001b[0mgcf\u001b[0m\u001b[1;33m(\u001b[0m\u001b[1;33m)\u001b[0m\u001b[1;33m\u001b[0m\u001b[1;33m\u001b[0m\u001b[0m\n\u001b[1;32m--> 859\u001b[1;33m     \u001b[0mres\u001b[0m \u001b[1;33m=\u001b[0m \u001b[0mfig\u001b[0m\u001b[1;33m.\u001b[0m\u001b[0msavefig\u001b[0m\u001b[1;33m(\u001b[0m\u001b[1;33m*\u001b[0m\u001b[0margs\u001b[0m\u001b[1;33m,\u001b[0m \u001b[1;33m**\u001b[0m\u001b[0mkwargs\u001b[0m\u001b[1;33m)\u001b[0m\u001b[1;33m\u001b[0m\u001b[1;33m\u001b[0m\u001b[0m\n\u001b[0m\u001b[0;32m    860\u001b[0m     \u001b[0mfig\u001b[0m\u001b[1;33m.\u001b[0m\u001b[0mcanvas\u001b[0m\u001b[1;33m.\u001b[0m\u001b[0mdraw_idle\u001b[0m\u001b[1;33m(\u001b[0m\u001b[1;33m)\u001b[0m   \u001b[1;31m# need this if 'transparent=True' to reset colors\u001b[0m\u001b[1;33m\u001b[0m\u001b[1;33m\u001b[0m\u001b[0m\n\u001b[0;32m    861\u001b[0m     \u001b[1;32mreturn\u001b[0m \u001b[0mres\u001b[0m\u001b[1;33m\u001b[0m\u001b[1;33m\u001b[0m\u001b[0m\n",
      "\u001b[1;32m~\\anaconda3\\lib\\site-packages\\matplotlib\\figure.py\u001b[0m in \u001b[0;36msavefig\u001b[1;34m(self, fname, transparent, **kwargs)\u001b[0m\n\u001b[0;32m   2309\u001b[0m                 \u001b[0mpatch\u001b[0m\u001b[1;33m.\u001b[0m\u001b[0mset_edgecolor\u001b[0m\u001b[1;33m(\u001b[0m\u001b[1;34m'none'\u001b[0m\u001b[1;33m)\u001b[0m\u001b[1;33m\u001b[0m\u001b[1;33m\u001b[0m\u001b[0m\n\u001b[0;32m   2310\u001b[0m \u001b[1;33m\u001b[0m\u001b[0m\n\u001b[1;32m-> 2311\u001b[1;33m         \u001b[0mself\u001b[0m\u001b[1;33m.\u001b[0m\u001b[0mcanvas\u001b[0m\u001b[1;33m.\u001b[0m\u001b[0mprint_figure\u001b[0m\u001b[1;33m(\u001b[0m\u001b[0mfname\u001b[0m\u001b[1;33m,\u001b[0m \u001b[1;33m**\u001b[0m\u001b[0mkwargs\u001b[0m\u001b[1;33m)\u001b[0m\u001b[1;33m\u001b[0m\u001b[1;33m\u001b[0m\u001b[0m\n\u001b[0m\u001b[0;32m   2312\u001b[0m \u001b[1;33m\u001b[0m\u001b[0m\n\u001b[0;32m   2313\u001b[0m         \u001b[1;32mif\u001b[0m \u001b[0mtransparent\u001b[0m\u001b[1;33m:\u001b[0m\u001b[1;33m\u001b[0m\u001b[1;33m\u001b[0m\u001b[0m\n",
      "\u001b[1;32m~\\anaconda3\\lib\\site-packages\\matplotlib\\backend_bases.py\u001b[0m in \u001b[0;36mprint_figure\u001b[1;34m(self, filename, dpi, facecolor, edgecolor, orientation, format, bbox_inches, pad_inches, bbox_extra_artists, backend, **kwargs)\u001b[0m\n\u001b[0;32m   2208\u001b[0m \u001b[1;33m\u001b[0m\u001b[0m\n\u001b[0;32m   2209\u001b[0m             \u001b[1;32mtry\u001b[0m\u001b[1;33m:\u001b[0m\u001b[1;33m\u001b[0m\u001b[1;33m\u001b[0m\u001b[0m\n\u001b[1;32m-> 2210\u001b[1;33m                 result = print_method(\n\u001b[0m\u001b[0;32m   2211\u001b[0m                     \u001b[0mfilename\u001b[0m\u001b[1;33m,\u001b[0m\u001b[1;33m\u001b[0m\u001b[1;33m\u001b[0m\u001b[0m\n\u001b[0;32m   2212\u001b[0m                     \u001b[0mdpi\u001b[0m\u001b[1;33m=\u001b[0m\u001b[0mdpi\u001b[0m\u001b[1;33m,\u001b[0m\u001b[1;33m\u001b[0m\u001b[1;33m\u001b[0m\u001b[0m\n",
      "\u001b[1;32m~\\anaconda3\\lib\\site-packages\\matplotlib\\backend_bases.py\u001b[0m in \u001b[0;36mwrapper\u001b[1;34m(*args, **kwargs)\u001b[0m\n\u001b[0;32m   1637\u001b[0m             \u001b[0mkwargs\u001b[0m\u001b[1;33m.\u001b[0m\u001b[0mpop\u001b[0m\u001b[1;33m(\u001b[0m\u001b[0marg\u001b[0m\u001b[1;33m)\u001b[0m\u001b[1;33m\u001b[0m\u001b[1;33m\u001b[0m\u001b[0m\n\u001b[0;32m   1638\u001b[0m \u001b[1;33m\u001b[0m\u001b[0m\n\u001b[1;32m-> 1639\u001b[1;33m         \u001b[1;32mreturn\u001b[0m \u001b[0mfunc\u001b[0m\u001b[1;33m(\u001b[0m\u001b[1;33m*\u001b[0m\u001b[0margs\u001b[0m\u001b[1;33m,\u001b[0m \u001b[1;33m**\u001b[0m\u001b[0mkwargs\u001b[0m\u001b[1;33m)\u001b[0m\u001b[1;33m\u001b[0m\u001b[1;33m\u001b[0m\u001b[0m\n\u001b[0m\u001b[0;32m   1640\u001b[0m \u001b[1;33m\u001b[0m\u001b[0m\n\u001b[0;32m   1641\u001b[0m     \u001b[1;32mreturn\u001b[0m \u001b[0mwrapper\u001b[0m\u001b[1;33m\u001b[0m\u001b[1;33m\u001b[0m\u001b[0m\n",
      "\u001b[1;32m~\\anaconda3\\lib\\site-packages\\matplotlib\\backends\\backend_agg.py\u001b[0m in \u001b[0;36mprint_png\u001b[1;34m(self, filename_or_obj, metadata, pil_kwargs, *args)\u001b[0m\n\u001b[0;32m    508\u001b[0m         \"\"\"\n\u001b[0;32m    509\u001b[0m         \u001b[0mFigureCanvasAgg\u001b[0m\u001b[1;33m.\u001b[0m\u001b[0mdraw\u001b[0m\u001b[1;33m(\u001b[0m\u001b[0mself\u001b[0m\u001b[1;33m)\u001b[0m\u001b[1;33m\u001b[0m\u001b[1;33m\u001b[0m\u001b[0m\n\u001b[1;32m--> 510\u001b[1;33m         mpl.image.imsave(\n\u001b[0m\u001b[0;32m    511\u001b[0m             \u001b[0mfilename_or_obj\u001b[0m\u001b[1;33m,\u001b[0m \u001b[0mself\u001b[0m\u001b[1;33m.\u001b[0m\u001b[0mbuffer_rgba\u001b[0m\u001b[1;33m(\u001b[0m\u001b[1;33m)\u001b[0m\u001b[1;33m,\u001b[0m \u001b[0mformat\u001b[0m\u001b[1;33m=\u001b[0m\u001b[1;34m\"png\"\u001b[0m\u001b[1;33m,\u001b[0m \u001b[0morigin\u001b[0m\u001b[1;33m=\u001b[0m\u001b[1;34m\"upper\"\u001b[0m\u001b[1;33m,\u001b[0m\u001b[1;33m\u001b[0m\u001b[1;33m\u001b[0m\u001b[0m\n\u001b[0;32m    512\u001b[0m             dpi=self.figure.dpi, metadata=metadata, pil_kwargs=pil_kwargs)\n",
      "\u001b[1;32m~\\anaconda3\\lib\\site-packages\\matplotlib\\image.py\u001b[0m in \u001b[0;36mimsave\u001b[1;34m(fname, arr, vmin, vmax, cmap, format, origin, dpi, metadata, pil_kwargs)\u001b[0m\n\u001b[0;32m   1603\u001b[0m         \u001b[0mpil_kwargs\u001b[0m\u001b[1;33m.\u001b[0m\u001b[0msetdefault\u001b[0m\u001b[1;33m(\u001b[0m\u001b[1;34m\"format\"\u001b[0m\u001b[1;33m,\u001b[0m \u001b[0mformat\u001b[0m\u001b[1;33m)\u001b[0m\u001b[1;33m\u001b[0m\u001b[1;33m\u001b[0m\u001b[0m\n\u001b[0;32m   1604\u001b[0m         \u001b[0mpil_kwargs\u001b[0m\u001b[1;33m.\u001b[0m\u001b[0msetdefault\u001b[0m\u001b[1;33m(\u001b[0m\u001b[1;34m\"dpi\"\u001b[0m\u001b[1;33m,\u001b[0m \u001b[1;33m(\u001b[0m\u001b[0mdpi\u001b[0m\u001b[1;33m,\u001b[0m \u001b[0mdpi\u001b[0m\u001b[1;33m)\u001b[0m\u001b[1;33m)\u001b[0m\u001b[1;33m\u001b[0m\u001b[1;33m\u001b[0m\u001b[0m\n\u001b[1;32m-> 1605\u001b[1;33m         \u001b[0mimage\u001b[0m\u001b[1;33m.\u001b[0m\u001b[0msave\u001b[0m\u001b[1;33m(\u001b[0m\u001b[0mfname\u001b[0m\u001b[1;33m,\u001b[0m \u001b[1;33m**\u001b[0m\u001b[0mpil_kwargs\u001b[0m\u001b[1;33m)\u001b[0m\u001b[1;33m\u001b[0m\u001b[1;33m\u001b[0m\u001b[0m\n\u001b[0m\u001b[0;32m   1606\u001b[0m \u001b[1;33m\u001b[0m\u001b[0m\n\u001b[0;32m   1607\u001b[0m \u001b[1;33m\u001b[0m\u001b[0m\n",
      "\u001b[1;32m~\\anaconda3\\lib\\site-packages\\PIL\\Image.py\u001b[0m in \u001b[0;36msave\u001b[1;34m(self, fp, format, **params)\u001b[0m\n\u001b[0;32m   2149\u001b[0m \u001b[1;33m\u001b[0m\u001b[0m\n\u001b[0;32m   2150\u001b[0m         \u001b[1;32mtry\u001b[0m\u001b[1;33m:\u001b[0m\u001b[1;33m\u001b[0m\u001b[1;33m\u001b[0m\u001b[0m\n\u001b[1;32m-> 2151\u001b[1;33m             \u001b[0msave_handler\u001b[0m\u001b[1;33m(\u001b[0m\u001b[0mself\u001b[0m\u001b[1;33m,\u001b[0m \u001b[0mfp\u001b[0m\u001b[1;33m,\u001b[0m \u001b[0mfilename\u001b[0m\u001b[1;33m)\u001b[0m\u001b[1;33m\u001b[0m\u001b[1;33m\u001b[0m\u001b[0m\n\u001b[0m\u001b[0;32m   2152\u001b[0m         \u001b[1;32mfinally\u001b[0m\u001b[1;33m:\u001b[0m\u001b[1;33m\u001b[0m\u001b[1;33m\u001b[0m\u001b[0m\n\u001b[0;32m   2153\u001b[0m             \u001b[1;31m# do what we can to clean up\u001b[0m\u001b[1;33m\u001b[0m\u001b[1;33m\u001b[0m\u001b[1;33m\u001b[0m\u001b[0m\n",
      "\u001b[1;32m~\\anaconda3\\lib\\site-packages\\PIL\\PngImagePlugin.py\u001b[0m in \u001b[0;36m_save\u001b[1;34m(im, fp, filename, chunk, save_all)\u001b[0m\n\u001b[0;32m   1337\u001b[0m         \u001b[0m_write_multiple_frames\u001b[0m\u001b[1;33m(\u001b[0m\u001b[0mim\u001b[0m\u001b[1;33m,\u001b[0m \u001b[0mfp\u001b[0m\u001b[1;33m,\u001b[0m \u001b[0mchunk\u001b[0m\u001b[1;33m,\u001b[0m \u001b[0mrawmode\u001b[0m\u001b[1;33m)\u001b[0m\u001b[1;33m\u001b[0m\u001b[1;33m\u001b[0m\u001b[0m\n\u001b[0;32m   1338\u001b[0m     \u001b[1;32melse\u001b[0m\u001b[1;33m:\u001b[0m\u001b[1;33m\u001b[0m\u001b[1;33m\u001b[0m\u001b[0m\n\u001b[1;32m-> 1339\u001b[1;33m         \u001b[0mImageFile\u001b[0m\u001b[1;33m.\u001b[0m\u001b[0m_save\u001b[0m\u001b[1;33m(\u001b[0m\u001b[0mim\u001b[0m\u001b[1;33m,\u001b[0m \u001b[0m_idat\u001b[0m\u001b[1;33m(\u001b[0m\u001b[0mfp\u001b[0m\u001b[1;33m,\u001b[0m \u001b[0mchunk\u001b[0m\u001b[1;33m)\u001b[0m\u001b[1;33m,\u001b[0m \u001b[1;33m[\u001b[0m\u001b[1;33m(\u001b[0m\u001b[1;34m\"zip\"\u001b[0m\u001b[1;33m,\u001b[0m \u001b[1;33m(\u001b[0m\u001b[1;36m0\u001b[0m\u001b[1;33m,\u001b[0m \u001b[1;36m0\u001b[0m\u001b[1;33m)\u001b[0m \u001b[1;33m+\u001b[0m \u001b[0mim\u001b[0m\u001b[1;33m.\u001b[0m\u001b[0msize\u001b[0m\u001b[1;33m,\u001b[0m \u001b[1;36m0\u001b[0m\u001b[1;33m,\u001b[0m \u001b[0mrawmode\u001b[0m\u001b[1;33m)\u001b[0m\u001b[1;33m]\u001b[0m\u001b[1;33m)\u001b[0m\u001b[1;33m\u001b[0m\u001b[1;33m\u001b[0m\u001b[0m\n\u001b[0m\u001b[0;32m   1340\u001b[0m \u001b[1;33m\u001b[0m\u001b[0m\n\u001b[0;32m   1341\u001b[0m     \u001b[1;32mif\u001b[0m \u001b[0minfo\u001b[0m\u001b[1;33m:\u001b[0m\u001b[1;33m\u001b[0m\u001b[1;33m\u001b[0m\u001b[0m\n",
      "\u001b[1;32m~\\anaconda3\\lib\\site-packages\\PIL\\ImageFile.py\u001b[0m in \u001b[0;36m_save\u001b[1;34m(im, fp, tile, bufsize)\u001b[0m\n\u001b[0;32m    522\u001b[0m             \u001b[1;32melse\u001b[0m\u001b[1;33m:\u001b[0m\u001b[1;33m\u001b[0m\u001b[1;33m\u001b[0m\u001b[0m\n\u001b[0;32m    523\u001b[0m                 \u001b[1;32mwhile\u001b[0m \u001b[1;32mTrue\u001b[0m\u001b[1;33m:\u001b[0m\u001b[1;33m\u001b[0m\u001b[1;33m\u001b[0m\u001b[0m\n\u001b[1;32m--> 524\u001b[1;33m                     \u001b[0ml\u001b[0m\u001b[1;33m,\u001b[0m \u001b[0ms\u001b[0m\u001b[1;33m,\u001b[0m \u001b[0md\u001b[0m \u001b[1;33m=\u001b[0m \u001b[0me\u001b[0m\u001b[1;33m.\u001b[0m\u001b[0mencode\u001b[0m\u001b[1;33m(\u001b[0m\u001b[0mbufsize\u001b[0m\u001b[1;33m)\u001b[0m\u001b[1;33m\u001b[0m\u001b[1;33m\u001b[0m\u001b[0m\n\u001b[0m\u001b[0;32m    525\u001b[0m                     \u001b[0mfp\u001b[0m\u001b[1;33m.\u001b[0m\u001b[0mwrite\u001b[0m\u001b[1;33m(\u001b[0m\u001b[0md\u001b[0m\u001b[1;33m)\u001b[0m\u001b[1;33m\u001b[0m\u001b[1;33m\u001b[0m\u001b[0m\n\u001b[0;32m    526\u001b[0m                     \u001b[1;32mif\u001b[0m \u001b[0ms\u001b[0m\u001b[1;33m:\u001b[0m\u001b[1;33m\u001b[0m\u001b[1;33m\u001b[0m\u001b[0m\n",
      "\u001b[1;31mKeyboardInterrupt\u001b[0m: "
     ]
    },
    {
     "data": {
      "image/png": "[encoded data removed]",
      "text/plain": [
       "<Figure size 1332x756 with 1 Axes>"
      ]
     },
     "metadata": {
      "needs_background": "light"
     },
     "output_type": "display_data"
    }
   ],
   "source": [
    "file_n=\"btc.csv\"\n",
    "coin_n=file_n[0:3]\n",
    "data = pd.read_csv(file_n, encoding=\"utf-8\") \n",
    "#data.head\n",
    "#data.rename(columns={'open':'open','high':'high','low':'low','close':'close','v1':'volume'},inplace=True)\n",
    "\n",
    "aroon_abstract=abstract.AROONOSC(data)\n",
    "#aroon_abstract00=abstract.BOP(data,price=data['00:00'])\n",
    "ad=abstract.AD(data)\n",
    "adosc=abstract.ADOSC(data)\n",
    "CDL2CROWS =abstract.CDL2CROWS(data)\n",
    "ADX=abstract.ADX(data)\n",
    "ADXR=abstract.ADXR(data)\n",
    "APO=abstract.APO(data)\n",
    "ATR=abstract.ATR(data)\n",
    "AVGPRICE=abstract.AVGPRICE(data)\n",
    "#BBANDS=abstract.BBANDS(data)\n",
    "BETA=abstract.BETA(data)\n",
    "BOP=abstract.BOP(data)\n",
    "CCI=abstract.CCI(data)\n",
    "#CDL3BLACKCROWS=abstract.CDL3BLACKCROWS(data)\n",
    "CDL3INSIDE =abstract.CDL3INSIDE(data)\n",
    "CDL3LINESTRIKE=abstract.CDL3LINESTRIKE(data)\n",
    "CDL3OUTSIDE=abstract.CDL3OUTSIDE(data)\n",
    "CDLADVANCEBLOCK=abstract.CDLADVANCEBLOCK(data)\n",
    "CDLBELTHOLD=abstract.CDLBELTHOLD(data)\n",
    "CDLCLOSINGMARUBOZU=abstract.CDLCLOSINGMARUBOZU(data)\n",
    "CDLDARKCLOUDCOVER=abstract.CDLDARKCLOUDCOVER(data)\n",
    "CDLDOJI=abstract.CDLDOJI(data)\n",
    "CDLDOJISTAR=abstract.CDLDOJISTAR(data)\n",
    "CDLDRAGONFLYDOJI=abstract.CDLDRAGONFLYDOJI(data)\n",
    "CDLENGULFING=abstract.CDLENGULFING(data)\n",
    "CDLEVENINGDOJISTAR=abstract.CDLEVENINGDOJISTAR(data)\n",
    "CDLEVENINGSTAR=abstract.CDLEVENINGSTAR(data)\n",
    "CDLGAPSIDESIDEWHITE=abstract.CDLGAPSIDESIDEWHITE(data)\n",
    "CDLGRAVESTONEDOJI=abstract.CDLGRAVESTONEDOJI(data)\n",
    "CDLHAMMER=abstract.CDLHAMMER(data)\n",
    "CDLHANGINGMAN=abstract.CDLHANGINGMAN(data)\n",
    "CDLHARAMI=abstract.CDLHARAMI(data)\n",
    "CDLHARAMICROSS=abstract.CDLHARAMICROSS(data)\n",
    "CDLHIGHWAVE=abstract.CDLHIGHWAVE(data)\n",
    "CDLHIKKAKE=abstract.CDLHIKKAKE(data)\n",
    "CDLHOMINGPIGEON=abstract.CDLHOMINGPIGEON(data)\n",
    "CDLIDENTICAL3CROWS=abstract.CDLIDENTICAL3CROWS(data)\n",
    "CDLINVERTEDHAMMER=abstract.CDLINVERTEDHAMMER(data)\n",
    "CDLLONGLEGGEDDOJI=abstract.CDLLONGLEGGEDDOJI(data)\n",
    "CDLLONGLINE=abstract.CDLLONGLINE(data)\n",
    "CDLMARUBOZU=abstract.CDLMARUBOZU(data)\n",
    "CDLMATCHINGLOW=abstract.CDLMATCHINGLOW(data)\n",
    "CDLMORNINGDOJISTAR=abstract.CDLMORNINGDOJISTAR(data)\n",
    "CDLMORNINGSTAR=abstract.CDLMORNINGSTAR(data)\n",
    "CDLPIERCING=abstract.CDLPIERCING(data)\n",
    "CDLRICKSHAWMAN=abstract.CDLRICKSHAWMAN(data)\n",
    "CDLSEPARATINGLINES=abstract.CDLSEPARATINGLINES(data)\n",
    "CDLSHOOTINGSTAR=abstract.CDLSHOOTINGSTAR(data)\n",
    "CDLSHORTLINE=abstract.CDLSHORTLINE(data)\n",
    "CDLSPINNINGTOP=abstract.CDLSPINNINGTOP(data)\n",
    "CDLSTALLEDPATTERN=abstract.CDLSTALLEDPATTERN(data)\n",
    "CDLTAKURI=abstract.CDLTAKURI(data)\n",
    "CDLTASUKIGAP=abstract.CDLTASUKIGAP(data)\n",
    "CDLTHRUSTING=abstract.CDLTHRUSTING(data)\n",
    "CDLXSIDEGAP3METHODS=abstract.CDLXSIDEGAP3METHODS(data)\n",
    "CMO=abstract.CMO(data)\n",
    "CORREL=abstract.CORREL(data)\n",
    "DEMA=abstract.DEMA(data)\n",
    "DX=abstract.DX(data)\n",
    "EMA=abstract.EMA(data)\n",
    "HT_DCPERIOD=abstract.HT_DCPERIOD(data)\n",
    "HT_DCPHASE=abstract.HT_DCPHASE(data)\n",
    "HT_TRENDLINE=abstract.HT_TRENDLINE(data)\n",
    "HT_TRENDMODE=abstract.HT_TRENDMODE(data)\n",
    "KAMA=abstract.KAMA(data)\n",
    "LINEARREG=abstract.LINEARREG(data)\n",
    "LINEARREG_ANGLE=abstract.LINEARREG_ANGLE(data)\n",
    "LINEARREG_INTERCEPT=abstract.LINEARREG_INTERCEPT(data)\n",
    "LINEARREG_SLOPE=abstract.LINEARREG_SLOPE(data)\n",
    "MA=abstract.MA(data)\n",
    "MAX=abstract.MAX(data)\n",
    "MEDPRICE=abstract.MEDPRICE(data)\n",
    "MFI=abstract.MFI(data)\n",
    "MIDPOINT=abstract.MIDPOINT(data)\n",
    "MIDPRICE=abstract.MIDPRICE(data)\n",
    "MIN=abstract.MIN(data)\n",
    "MINUS_DI=abstract.MINUS_DI(data)\n",
    "MINUS_DM=abstract.MINUS_DM(data)\n",
    "MOM=abstract.MOM(data)\n",
    "NATR=abstract.NATR(data)\n",
    "OBV=abstract.OBV(data)\n",
    "PLUS_DI=abstract.PLUS_DI(data)\n",
    "PLUS_DM=abstract.PLUS_DM(data)\n",
    "PPO=abstract.PPO(data)\n",
    "ROC=abstract.ROC(data)\n",
    "ROCP=abstract.ROCP(data)\n",
    "ROCR=abstract.ROCR(data)\n",
    "ROCR100=abstract.ROCR100(data)\n",
    "RSI=abstract.RSI(data)\n",
    "SAR=abstract.SAR(data)\n",
    "SAREXT=abstract.SAREXT(data)\n",
    "SMA=abstract.SMA(data)\n",
    "STDDEV=abstract.STDDEV(data)\n",
    "SUM=abstract.SUM(data)\n",
    "T3=abstract.T3(data)\n",
    "TEMA=abstract.TEMA(data)\n",
    "TRANGE=abstract.TRANGE(data)\n",
    "TRIMA=abstract.TRIMA(data)\n",
    "TRIX=abstract.TRIX(data)\n",
    "TSF=abstract.TSF(data)\n",
    "TYPPRICE=abstract.TYPPRICE(data)\n",
    "ULTOSC=abstract.ULTOSC(data)\n",
    "VAR=abstract.VAR(data)\n",
    "WCLPRICE=abstract.WCLPRICE(data)\n",
    "WILLR=abstract.WILLR(data)\n",
    "WMA=abstract.WMA(data)\n",
    "\n",
    "\n",
    "####################################\n",
    "data['AROONOSC']=aroon_abstract\n",
    "#data['AROONOSC00']=aroon_abstract00\n",
    "data['AD']=ad\n",
    "data['ADOSC']=adosc\n",
    "data['CDL2CROWS']=CDL2CROWS\n",
    "data['ADX']=ADX\n",
    "data['ADXR']=ADXR\n",
    "data['APO']=APO\n",
    "data['ATR']=ATR\n",
    "data['AVGPRICE']=AVGPRICE\n",
    "#dataCopy['BBANDS']=BBANDS\n",
    "data['BETA']=BETA\n",
    "data['BOP']=BOP\n",
    "data['CCI']=CCI\n",
    "#data['CDL3BLACKCROWS']=CDL3BLACKCROWS\n",
    "data['CDL3INSIDE']=CDL3INSIDE\n",
    "data['CDL3LINESTRIKE']=CDL3LINESTRIKE\n",
    "data['CDL3OUTSIDE']=CDL3OUTSIDE\n",
    "data['CDLADVANCEBLOCK']=CDLADVANCEBLOCK\n",
    "data['CDLBELTHOLD']=CDLBELTHOLD\n",
    "data['CDLCLOSINGMARUBOZU']=CDLCLOSINGMARUBOZU\n",
    "data['CDLDARKCLOUDCOVER']=CDLDARKCLOUDCOVER\n",
    "data['CDLDOJI']=CDLDOJI\n",
    "data['CDLDOJISTAR']=CDLDOJISTAR\n",
    "data['CDLDRAGONFLYDOJI']=CDLDRAGONFLYDOJI\n",
    "data['CDLENGULFING']=CDLENGULFING\n",
    "data['CDLEVENINGDOJISTAR']=CDLEVENINGDOJISTAR\n",
    "data['CDLEVENINGSTAR']=CDLEVENINGSTAR\n",
    "data['CDLGAPSIDESIDEWHITE']=CDLGAPSIDESIDEWHITE\n",
    "data['CDLGRAVESTONEDOJI']=CDLGRAVESTONEDOJI\n",
    "data['CDLHAMMER']=CDLHAMMER\n",
    "data['CDLHANGINGMAN']=CDLHANGINGMAN\n",
    "data['CDLHARAMI']=CDLHARAMI\n",
    "data['CDLHARAMICROSS']=CDLHARAMICROSS\n",
    "data['CDLHIGHWAVE']=CDLHIGHWAVE\n",
    "data['CDLHIKKAKE']=CDLHIKKAKE\n",
    "data['CDLHOMINGPIGEON']=CDLHOMINGPIGEON\n",
    "data['CDLIDENTICAL3CROWS']=CDLIDENTICAL3CROWS\n",
    "data['CDLINVERTEDHAMMER']=CDLINVERTEDHAMMER\n",
    "data['CDLLONGLEGGEDDOJI']=CDLLONGLEGGEDDOJI\n",
    "data['CDLLONGLINE']=CDLLONGLINE\n",
    "data['CDLMARUBOZU']=CDLMARUBOZU\n",
    "data['CDLMATCHINGLOW']=CDLMATCHINGLOW\n",
    "data['CDLMORNINGDOJISTAR']=CDLMORNINGDOJISTAR\n",
    "data['CDLMORNINGSTAR']=CDLMORNINGSTAR\n",
    "data['CDLPIERCING']=CDLPIERCING\n",
    "data['CDLRICKSHAWMAN']=CDLRICKSHAWMAN\n",
    "data['CDLSEPARATINGLINES']=CDLSEPARATINGLINES\n",
    "data['CDLSHOOTINGSTAR']=CDLSHOOTINGSTAR\n",
    "data['CDLSHORTLINE']=CDLSHORTLINE\n",
    "data['CDLSPINNINGTOP']=CDLSPINNINGTOP\n",
    "data['CDLSTALLEDPATTERN']=CDLSTALLEDPATTERN\n",
    "data['CDLTAKURI']=CDLTAKURI\n",
    "data['CDLTASUKIGAP']=CDLTASUKIGAP\n",
    "data['CDLTHRUSTING']=CDLTHRUSTING\n",
    "data['CDLXSIDEGAP3METHODS']=CDLXSIDEGAP3METHODS\n",
    "data['CMO']=CMO\n",
    "data['CORREL']=CORREL\n",
    "data['DEMA']=DEMA\n",
    "data['DX']=DX\n",
    "data['EMA']=EMA\n",
    "data['HT_DCPERIOD']=HT_DCPERIOD\n",
    "data['HT_DCPHASE']=HT_DCPHASE\n",
    "data['HT_TRENDLINE']=HT_TRENDLINE\n",
    "data['HT_TRENDMODE']=HT_TRENDMODE\n",
    "data['KAMA']=KAMA\n",
    "data['LINEARREG']=LINEARREG\n",
    "data['LINEARREG_ANGLE']=LINEARREG_ANGLE\n",
    "data['LINEARREG_INTERCEPT']=LINEARREG_INTERCEPT\n",
    "data['LINEARREG_SLOPE']=LINEARREG_SLOPE\n",
    "data['MA']=MA\n",
    "data['MAX']=MAX\n",
    "data['MEDPRICE']=MEDPRICE\n",
    "data['MFI']=MFI\n",
    "data['MIDPOINT']=MIDPOINT\n",
    "data['MIDPRICE']=MIDPRICE\n",
    "data['MIN']=MIN\n",
    "data['MINUS_DI']=MINUS_DI\n",
    "data['MINUS_DM']=MINUS_DM\n",
    "data['MOM']=MOM\n",
    "data['NATR']=NATR\n",
    "data['OBV']=OBV\n",
    "data['PLUS_DI']=PLUS_DI\n",
    "data['PLUS_DM']=PLUS_DM\n",
    "data['PPO']=PPO\n",
    "data['ROC']=ROC\n",
    "data['ROCP']=ROCP\n",
    "data['ROCR']=ROCR\n",
    "data['ROCR100']=ROCR100\n",
    "data['RSI']=RSI\n",
    "data['SAR']=SAR\n",
    "data['SAREXT']=SAREXT\n",
    "data['SMA']=SMA\n",
    "data['STDDEV']=STDDEV\n",
    "data['SUM']=SUM\n",
    "data['T3']=T3\n",
    "data['TEMA']=TEMA\n",
    "data['TRANGE']=TRANGE\n",
    "data['TRIMA']=TRIMA\n",
    "data['TRIX']=TRIX\n",
    "data['TSF']=TSF\n",
    "data['TYPPRICE']=TYPPRICE\n",
    "data['ULTOSC']=ULTOSC\n",
    "data['VAR']=VAR\n",
    "data['WCLPRICE']=WCLPRICE\n",
    "data['WILLR']=WILLR\n",
    "data['WMA']=WMA\n",
    "\n",
    "data.head\n",
    "#######################################\n",
    "#ddd=data['BOP']\n",
    "#ddd00=data['AROONOSC00']\n",
    "#print(ddd[100:110])\n",
    "#print(ddd00[100:110])\n",
    "#data.to_csv('EURUSDH1_allindicators.csv')\n",
    "ind='CDLCLOSINGMARUBOZU'\n",
    "ff=data[data[ind]!=0 ]\n",
    "print(len(ff))\n",
    "print(ff[0:1]['date'].values[0])\n",
    "data.head\n",
    "st=0\n",
    "en=len(ff)\n",
    "\n",
    "for x in range(st, en):\n",
    "    print(x)\n",
    "    date_of_interest=ff[x:x+1]['date'].values[0]\n",
    "    plotdata(data,date_of_interest,10,100,coin_n,ind)\n",
    "   # plt.savefig(date_of_interest+'.png')\n",
    "    #plt.draw()\n",
    "    #plt.close()\n",
    "\n",
    "#\n",
    "#ff.to_csv('EURUSDH1_n5_CDLGAPSIDESIDEWHITE_94instances.csv')\n",
    "#arr=ff['n']\n",
    "#print(arr)\n",
    "\n",
    "#data.to_csv('EURUSDDaily_2000_2021_indicators.csv')\n",
    "\n",
    "#data[data['HT_TRENDMODE']!=0]\n",
    "#dd=data['WMA']\n",
    "\n",
    "#dd.tail()\n",
    "\n",
    "\n",
    "\n",
    "#?abstract.BBANDS\n"
   ]
  },
  {
   "cell_type": "code",
   "execution_count": 114,
   "metadata": {},
   "outputs": [
    {
     "name": "stdout",
     "output_type": "stream",
     "text": [
      "eth\n"
     ]
    }
   ],
   "source": [
    "file_n=\"eth.csv\"\n",
    "coin_n=file_n[0:3]\n",
    "print(coin_n)\n",
    "   \n",
    "    "
   ]
  },
  {
   "cell_type": "code",
   "execution_count": null,
   "metadata": {},
   "outputs": [],
   "source": []
  }
 ],
 "metadata": {
  "kernelspec": {
   "display_name": "Python 3",
   "language": "python",
   "name": "python3"
  },
  "language_info": {
   "codemirror_mode": {
    "name": "ipython",
    "version": 3
   },
   "file_extension": ".py",
   "mimetype": "text/x-python",
   "name": "python",
   "nbconvert_exporter": "python",
   "pygments_lexer": "ipython3",
   "version": "3.8.5"
  }
 },
 "nbformat": 4,
 "nbformat_minor": 4
}
